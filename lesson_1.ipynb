{
 "cells": [
  {
   "cell_type": "markdown",
   "id": "2581629a-2ad6-4c2e-b8ef-651c584f9699",
   "metadata": {},
   "source": [
    "#### Ex.6: Write a program that asks the user to enter a number and prints out whether it is a prime number or not. (Assume that the user can enter any number)"
   ]
  },
  {
   "cell_type": "code",
   "execution_count": 26,
   "id": "8e47b03c-cd2d-4706-baa6-5c19ea289e87",
   "metadata": {},
   "outputs": [
    {
     "name": "stdin",
     "output_type": "stream",
     "text": [
      "Enter a number: 1\n"
     ]
    },
    {
     "name": "stdout",
     "output_type": "stream",
     "text": [
      "1 is a prime number.\n"
     ]
    }
   ],
   "source": [
    "# function to define prime number\n",
    "def is_prime(num):\n",
    "    \"\"\"\n",
    "    This function check if a number is a prime\n",
    "    arg num: int\n",
    "    return bool\n",
    "    \"\"\"\n",
    "    for i in range (2, num):\n",
    "        if num % i == 0:\n",
    "            return False\n",
    "    return True\n",
    "    \n",
    "num = int(input(\"Enter a number:\"))\n",
    "\n",
    "# check prime\n",
    "if is_prime(num):\n",
    "    print(f\"{num} is a prime number.\")\n",
    "else:\n",
    "    print(f\"{num} is not a prime number.\")"
   ]
  },
  {
   "cell_type": "markdown",
   "id": "41aa9eaf-be23-4f73-9e90-1ebabb52a681",
   "metadata": {},
   "source": [
    "#### Ex.7: Write a program that asks the user to enter a number and check if the number is a square number or not. (Assume that the user can enter any number)\n"
   ]
  },
  {
   "cell_type": "code",
   "execution_count": 49,
   "id": "a94f890b-7d61-473d-b8b0-28fa2049e79b",
   "metadata": {},
   "outputs": [
    {
     "name": "stdin",
     "output_type": "stream",
     "text": [
      "Enter a number: 12\n"
     ]
    },
    {
     "name": "stdout",
     "output_type": "stream",
     "text": [
      "12 is not a prime number.\n"
     ]
    }
   ],
   "source": [
    "import math\n",
    "\n",
    "def is_square(num):\n",
    "    for i in range (2, int(math.sqrt(num)) + 1):\n",
    "        if i * i == num:\n",
    "            return True\n",
    "    return False\n",
    "\n",
    "def is_int(num):\n",
    "    if (math.floor(num) - num == 0.0):\n",
    "        return True\n",
    "    return False\n",
    "\n",
    "num = input(\"Enter a number:\")\n",
    "num = float(num)\n",
    "\n",
    "if not is_int(num):\n",
    "    print(f\"{num} is not a square number.\")\n",
    "if is_int(num):\n",
    "    num = int(num)\n",
    "    if is_square(num):\n",
    "        print(f\"{num} is a square number.\")\n",
    "    else:\n",
    "        print(f\"{num} is not a prime number.\")\n",
    "    \n",
    "\n",
    "\n",
    "\n"
   ]
  },
  {
   "cell_type": "markdown",
   "id": "fbd5efe4-36d9-47b3-8f28-ee9d818571dc",
   "metadata": {},
   "source": [
    "#### Ex.8: Write a program that asks the user to enter a number and prints out the factorial of that number. \n",
    "(Assume that the user can enter any integers). \n",
    "Note that factorial of negative numbers exists but is not valid for this exercise. But if you are good, try to do it."
   ]
  },
  {
   "cell_type": "code",
   "execution_count": null,
   "id": "400397dd-b39b-44a9-bef9-9c23f5ba5477",
   "metadata": {},
   "outputs": [],
   "source": []
  },
  {
   "cell_type": "markdown",
   "id": "5caaae54-cde8-45d7-9e73-f6ecd295d556",
   "metadata": {},
   "source": [
    "#### Ex.9: Write a program that asks the user to enter a number and prints out the Fibonacci sequence up to that number. (Assume that the user can enter any integers)\n"
   ]
  },
  {
   "cell_type": "code",
   "execution_count": null,
   "id": "32abfe27-6cb0-412d-81e4-541fdfd7633c",
   "metadata": {},
   "outputs": [],
   "source": []
  }
 ],
 "metadata": {
  "kernelspec": {
   "display_name": "Python 3 (ipykernel)",
   "language": "python",
   "name": "python3"
  },
  "language_info": {
   "codemirror_mode": {
    "name": "ipython",
    "version": 3
   },
   "file_extension": ".py",
   "mimetype": "text/x-python",
   "name": "python",
   "nbconvert_exporter": "python",
   "pygments_lexer": "ipython3",
   "version": "3.11.7"
  }
 },
 "nbformat": 4,
 "nbformat_minor": 5
}
